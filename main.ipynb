{
 "cells": [
  {
   "cell_type": "markdown",
   "metadata": {},
   "source": [
    "## Loading files"
   ]
  },
  {
   "cell_type": "markdown",
   "metadata": {},
   "source": [
    "### Setup"
   ]
  },
  {
   "cell_type": "code",
   "execution_count": 2,
   "metadata": {},
   "outputs": [],
   "source": [
    "# !curl https://raw.githubusercontent.com/UniversalDependencies/UD_Ancient_Greek-Perseus/master/grc_perseus-ud-train.conllu -o data/perseus-conllu/grc_perseus-ud-train.conllu\n",
    "# !curl https://raw.githubusercontent.com/UniversalDependencies/UD_Ancient_Greek-Perseus/master/grc_perseus-ud-dev.conllu -o data/perseus-conllu/grc_perseus-ud-dev.conllu\n",
    "# !curl https://raw.githubusercontent.com/UniversalDependencies/UD_Ancient_Greek-Perseus/master/grc_perseus-ud-test.conllu -o data/perseus-conllu/grc_perseus-ud-test.conllu"
   ]
  },
  {
   "cell_type": "code",
   "execution_count": 1,
   "metadata": {},
   "outputs": [
    {
     "name": "stdout",
     "output_type": "stream",
     "text": [
      "Collecting pyconll\n",
      "  Downloading https://files.pythonhosted.org/packages/2c/6e/c325d0db05ac1b8d45645de903e4ba691d419e861c915c3d4ebfcaf8ac25/pyconll-2.2.1-py3-none-any.whl\n",
      "Requirement already satisfied: torchtext in /home/onepanel/.conda/lib/python3.6/site-packages (0.3.1)\n",
      "Collecting livelossplot\n",
      "  Downloading https://files.pythonhosted.org/packages/7c/e4/a7884b57113dfe84d3565418820feae7a20964438beb1088b2b08820ad94/livelossplot-0.5.0-py3-none-any.whl\n",
      "Requirement already satisfied: requests>=2.21 in /home/onepanel/.conda/lib/python3.6/site-packages (from pyconll) (2.21.0)\n",
      "Requirement already satisfied: tqdm in /home/onepanel/.conda/lib/python3.6/site-packages (from torchtext) (4.32.1)\n",
      "Requirement already satisfied: torch in /home/onepanel/.conda/lib/python3.6/site-packages (from torchtext) (1.1.0)\n",
      "Requirement already satisfied: numpy in /home/onepanel/.conda/lib/python3.6/site-packages (from torchtext) (1.16.3)\n",
      "Requirement already satisfied: ipython in /home/onepanel/.conda/lib/python3.6/site-packages (from livelossplot) (7.5.0)\n",
      "Requirement already satisfied: matplotlib; python_version >= \"3.6\" in /home/onepanel/.conda/lib/python3.6/site-packages (from livelossplot) (3.0.3)\n",
      "Requirement already satisfied: chardet<3.1.0,>=3.0.2 in /home/onepanel/.conda/lib/python3.6/site-packages (from requests>=2.21->pyconll) (3.0.4)\n",
      "Requirement already satisfied: idna<2.9,>=2.5 in /home/onepanel/.conda/lib/python3.6/site-packages (from requests>=2.21->pyconll) (2.8)\n",
      "Requirement already satisfied: certifi>=2017.4.17 in /home/onepanel/.conda/lib/python3.6/site-packages (from requests>=2.21->pyconll) (2019.3.9)\n",
      "Requirement already satisfied: urllib3<1.25,>=1.21.1 in /home/onepanel/.conda/lib/python3.6/site-packages (from requests>=2.21->pyconll) (1.24.2)\n",
      "Requirement already satisfied: pickleshare in /home/onepanel/.conda/lib/python3.6/site-packages (from ipython->livelossplot) (0.7.5)\n",
      "Requirement already satisfied: decorator in /home/onepanel/.conda/lib/python3.6/site-packages (from ipython->livelossplot) (4.4.0)\n",
      "Requirement already satisfied: pygments in /home/onepanel/.conda/lib/python3.6/site-packages (from ipython->livelossplot) (2.4.2)\n",
      "Requirement already satisfied: setuptools>=18.5 in /home/onepanel/.conda/lib/python3.6/site-packages (from ipython->livelossplot) (41.0.1)\n",
      "Requirement already satisfied: backcall in /home/onepanel/.conda/lib/python3.6/site-packages (from ipython->livelossplot) (0.1.0)\n",
      "Requirement already satisfied: traitlets>=4.2 in /home/onepanel/.conda/lib/python3.6/site-packages (from ipython->livelossplot) (4.3.2)\n",
      "Requirement already satisfied: prompt-toolkit<2.1.0,>=2.0.0 in /home/onepanel/.conda/lib/python3.6/site-packages (from ipython->livelossplot) (2.0.9)\n",
      "Requirement already satisfied: pexpect; sys_platform != \"win32\" in /home/onepanel/.conda/lib/python3.6/site-packages (from ipython->livelossplot) (4.7.0)\n",
      "Requirement already satisfied: jedi>=0.10 in /home/onepanel/.conda/lib/python3.6/site-packages (from ipython->livelossplot) (0.13.3)\n",
      "Requirement already satisfied: cycler>=0.10 in /home/onepanel/.conda/lib/python3.6/site-packages (from matplotlib; python_version >= \"3.6\"->livelossplot) (0.10.0)\n",
      "Requirement already satisfied: kiwisolver>=1.0.1 in /home/onepanel/.conda/lib/python3.6/site-packages (from matplotlib; python_version >= \"3.6\"->livelossplot) (1.1.0)\n",
      "Requirement already satisfied: pyparsing!=2.0.4,!=2.1.2,!=2.1.6,>=2.0.1 in /home/onepanel/.conda/lib/python3.6/site-packages (from matplotlib; python_version >= \"3.6\"->livelossplot) (2.4.0)\n",
      "Requirement already satisfied: python-dateutil>=2.1 in /home/onepanel/.conda/lib/python3.6/site-packages (from matplotlib; python_version >= \"3.6\"->livelossplot) (2.8.0)\n",
      "Requirement already satisfied: six in /home/onepanel/.conda/lib/python3.6/site-packages (from traitlets>=4.2->ipython->livelossplot) (1.12.0)\n",
      "Requirement already satisfied: ipython-genutils in /home/onepanel/.conda/lib/python3.6/site-packages (from traitlets>=4.2->ipython->livelossplot) (0.2.0)\n",
      "Requirement already satisfied: wcwidth in /home/onepanel/.conda/lib/python3.6/site-packages (from prompt-toolkit<2.1.0,>=2.0.0->ipython->livelossplot) (0.1.7)\n",
      "Requirement already satisfied: ptyprocess>=0.5 in /home/onepanel/.conda/lib/python3.6/site-packages (from pexpect; sys_platform != \"win32\"->ipython->livelossplot) (0.6.0)\n",
      "Requirement already satisfied: parso>=0.3.0 in /home/onepanel/.conda/lib/python3.6/site-packages (from jedi>=0.10->ipython->livelossplot) (0.4.0)\n",
      "Installing collected packages: pyconll, livelossplot\n",
      "Successfully installed livelossplot-0.5.0 pyconll-2.2.1\n"
     ]
    }
   ],
   "source": [
    "!pip install pyconll torchtext livelossplot"
   ]
  },
  {
   "cell_type": "markdown",
   "metadata": {},
   "source": [
    "### Parsing"
   ]
  },
  {
   "cell_type": "code",
   "execution_count": 1,
   "metadata": {},
   "outputs": [],
   "source": [
    "import pyconll"
   ]
  },
  {
   "cell_type": "code",
   "execution_count": 2,
   "metadata": {},
   "outputs": [],
   "source": [
    "def parse_into_list(body):\n",
    "    data = []\n",
    "    for sentence in body:\n",
    "        sentence_words = []\n",
    "        sentence_tags = []\n",
    "        for token in sentence:\n",
    "            sentence_words.append(token.form)\n",
    "            sentence_tags.append(token.upos)\n",
    "\n",
    "        if len(sentence_words) > 0:\n",
    "            data.append((sentence_words, sentence_tags))\n",
    "    \n",
    "    return data"
   ]
  },
  {
   "cell_type": "code",
   "execution_count": 3,
   "metadata": {},
   "outputs": [
    {
     "data": {
      "text/plain": [
       "(11476, 1137)"
      ]
     },
     "execution_count": 3,
     "metadata": {},
     "output_type": "execute_result"
    }
   ],
   "source": [
    "train_file = pyconll.load_from_file('data/perseus-conllu/grc_perseus-ud-train.conllu')\n",
    "val_file = pyconll.load_from_file('data/perseus-conllu/grc_perseus-ud-dev.conllu')\n",
    "\n",
    "train = parse_into_list(train_file)\n",
    "val = parse_into_list(val_file)\n",
    "\n",
    "len(train),len(val)"
   ]
  },
  {
   "cell_type": "code",
   "execution_count": 4,
   "metadata": {},
   "outputs": [
    {
     "data": {
      "text/plain": [
       "(33238, 186)"
      ]
     },
     "execution_count": 4,
     "metadata": {},
     "output_type": "execute_result"
    }
   ],
   "source": [
    "word_to_ix = { '<UNK>': 0 }\n",
    "char_to_ix = { '<UNK>': 0 }\n",
    "for words, tags in train:\n",
    "    for word in words:\n",
    "        if word not in word_to_ix:\n",
    "            word_to_ix[word] = len(word_to_ix)\n",
    "            \n",
    "        for char in word:\n",
    "            if char not in char_to_ix:\n",
    "                char_to_ix[char] = len(char_to_ix)\n",
    "\n",
    "            \n",
    "len(word_to_ix),len(char_to_ix)"
   ]
  },
  {
   "cell_type": "code",
   "execution_count": 5,
   "metadata": {},
   "outputs": [
    {
     "data": {
      "text/plain": [
       "14"
      ]
     },
     "execution_count": 5,
     "metadata": {},
     "output_type": "execute_result"
    }
   ],
   "source": [
    "tag_to_ix = {}\n",
    "for sent, tags in train:\n",
    "    for tag in tags:\n",
    "        if tag not in tag_to_ix:\n",
    "            tag_to_ix[tag] = len(tag_to_ix)\n",
    "\n",
    "len(tag_to_ix)"
   ]
  },
  {
   "cell_type": "markdown",
   "metadata": {},
   "source": [
    "## Model setup\n",
    "\n",
    "Based on https://pytorch.org/tutorials/beginner/nlp/sequence_models_tutorial.html"
   ]
  },
  {
   "cell_type": "code",
   "execution_count": 6,
   "metadata": {},
   "outputs": [],
   "source": [
    "import torch\n",
    "import torch.nn as nn\n",
    "import torch.optim as optim\n",
    "import torch.utils\n",
    "import torch.utils.data\n",
    "import torch.autograd as autograd\n",
    "\n",
    "from model.lstm_char import LSTMCharTagger"
   ]
  },
  {
   "cell_type": "code",
   "execution_count": 7,
   "metadata": {},
   "outputs": [
    {
     "data": {
      "text/plain": [
       "device(type='cpu')"
      ]
     },
     "execution_count": 7,
     "metadata": {},
     "output_type": "execute_result"
    }
   ],
   "source": [
    "torch.manual_seed(1)\n",
    "\n",
    "WORD_EMBEDDING_DIM = 5\n",
    "CHAR_EMBEDDING_DIM = 6\n",
    "CHAR_REPR_DIM = 3\n",
    "HIDDEN_DIM = 6\n",
    "\n",
    "device = torch.device(\"cuda:0\" if torch.cuda.is_available() else \"cpu\")\n",
    "device"
   ]
  },
  {
   "cell_type": "code",
   "execution_count": 8,
   "metadata": {},
   "outputs": [],
   "source": [
    "def make_ixs(seq, to_ix):\n",
    "    ixs = torch.tensor([to_ix[w] if w in to_ix else to_ix['<UNK>'] for w in seq]).to(device)\n",
    "    return ixs"
   ]
  },
  {
   "cell_type": "code",
   "execution_count": 9,
   "metadata": {},
   "outputs": [],
   "source": [
    "model = LSTMCharTagger(WORD_EMBEDDING_DIM,\n",
    "                   CHAR_EMBEDDING_DIM, CHAR_REPR_DIM,\n",
    "                   HIDDEN_DIM,\n",
    "                   len(word_to_ix), len(char_to_ix), len(tag_to_ix),\n",
    "                   device)\n",
    "model.to(device)\n",
    "loss_function = nn.NLLLoss()\n",
    "optimizer = optim.Adam(model.parameters(), lr=0.001)"
   ]
  },
  {
   "cell_type": "markdown",
   "metadata": {},
   "source": [
    "## Model training"
   ]
  },
  {
   "cell_type": "code",
   "execution_count": 10,
   "metadata": {},
   "outputs": [],
   "source": [
    "import matplotlib.pyplot as plt\n",
    "import matplotlib.ticker as ticker\n",
    "from tqdm import tqdm\n",
    "\n",
    "%matplotlib inline"
   ]
  },
  {
   "cell_type": "code",
   "execution_count": null,
   "metadata": {},
   "outputs": [
    {
     "name": "stderr",
     "output_type": "stream",
     "text": [
      "  6%|▋         | 23/358.625 [00:05<01:34,  3.54it/s]"
     ]
    }
   ],
   "source": [
    "# TODO: evaluate loss on separate validation dataset\n",
    "\n",
    "bs = 32\n",
    "train_loader = torch.utils.data.DataLoader(train, batch_size=bs, shuffle=True, num_workers=0)\n",
    "val_loader = torch.utils.data.DataLoader(val, batch_size=bs, shuffle=True, num_workers=0)\n",
    "train_losses = []\n",
    "\n",
    "for epoch in range(20):\n",
    "    total_loss = 0\n",
    "\n",
    "    model.train()\n",
    "    for i, data in tqdm(enumerate(train_loader), total=len(train) / bs):                \n",
    "        for i in range(len(data[0])):\n",
    "            sentence = data[0][i]\n",
    "            tags = data[1][i]\n",
    "            \n",
    "            word_characters_ixs = {}\n",
    "            for word in sentence:\n",
    "                word_ix = torch.tensor([word_to_ix[word]]).to(device) if word in word_to_ix else torch.tensor([word_to_ix['<UNK>']]).to(device)\n",
    "                char_ixs = make_ixs(word, char_to_ix)\n",
    "                word_characters_ixs[word_ix] = char_ixs\n",
    "\n",
    "            targets = make_ixs(tags, tag_to_ix)\n",
    "\n",
    "            model.zero_grad()\n",
    "\n",
    "            model.init_word_hidden()\n",
    "            tag_scores = model(word_characters_ixs)\n",
    "\n",
    "            loss = loss_function(tag_scores, targets)\n",
    "            loss.backward() # calculate gradients\n",
    "            optimizer.step() # update hidden layers based on gradients\n",
    "\n",
    "            total_loss += loss\n",
    "\n",
    "    epoch_loss = total_loss / len(train)\n",
    "    \n",
    "    print('Epoch %d: %.4f' % (epoch, total_loss / len(train)))\n",
    "    train_losses.append(total_loss / len(train))\n",
    "    \n",
    "    # Evaluate on validation dataset\n",
    "    model.eval()\n",
    "    val_loss = 0\n",
    "    correct = 0\n",
    "    total = 0\n",
    "\n",
    "    for i, data in tqdm(enumerate(train_loader), total=len(train) / bs):        \n",
    "        model.zero_grad()\n",
    "        \n",
    "        for i in range(len(data[0])):\n",
    "            sentence = data[0][i]\n",
    "            tags = data[1][i]\n",
    "                        \n",
    "            word_characters_ixs = {}\n",
    "            for word in sentence:\n",
    "                word_ix = torch.tensor([word_to_ix[word]]).to(device) if word in word_to_ix else torch.tensor([word_to_ix['<UNK>']]).to(device)\n",
    "                char_ixs = make_ixs(word, char_to_ix)\n",
    "                word_characters_ixs[word_ix] = char_ixs\n",
    "            \n",
    "            targets = make_ixs(tags, tag_to_ix)\n",
    "\n",
    "            model.zero_grad()\n",
    "\n",
    "            model.init_word_hidden()\n",
    "            tag_scores = model(word_characters_ixs)\n",
    "            loss = loss_function(tag_scores, targets)\n",
    "\n",
    "            val_loss += loss.item()\n",
    "            _, predicted = tag_scores.max(1)\n",
    "            total += targets.size(0)\n",
    "            correct += predicted.eq(targets).sum().item()\n",
    "    \n",
    "    print()\n",
    "    print((100.*correct/total))\n",
    "    print()"
   ]
  },
  {
   "cell_type": "code",
   "execution_count": null,
   "metadata": {},
   "outputs": [],
   "source": [
    "# import pickle\n",
    "# with open('model.pickle', 'wb') as f:\n",
    "#     pickle.dump(model, f)"
   ]
  },
  {
   "cell_type": "markdown",
   "metadata": {},
   "source": [
    "## Inference"
   ]
  },
  {
   "cell_type": "code",
   "execution_count": 12,
   "metadata": {},
   "outputs": [],
   "source": [
    "ix_to_tag = {v: k for k, v in tag_to_ix.items()}\n",
    "# ix_to_tag"
   ]
  },
  {
   "cell_type": "code",
   "execution_count": 13,
   "metadata": {},
   "outputs": [
    {
     "name": "stdout",
     "output_type": "stream",
     "text": [
      "τὰ = DET (should be DET)\n",
      "γὰρ = PART (should be ADV)\n",
      "πρὸ = ADP (should be ADP)\n",
      "αὐτῶν = PRON (should be PRON)\n",
      "καὶ = CCONJ (should be CCONJ)\n",
      "τὰ = DET (should be DET)\n",
      "ἔτι = ADV (should be ADV)\n",
      "παλαίτερα = NOUN (should be ADJ)\n",
      "σαφῶς = VERB (should be ADV)\n",
      "μὲν = PART (should be ADV)\n",
      "εὑρεῖν = ADJ (should be VERB)\n",
      "διὰ = ADP (should be ADP)\n",
      "χρόνου = NOUN (should be NOUN)\n",
      "πλῆθος = NOUN (should be NOUN)\n",
      "ἀδύνατα = VERB (should be ADJ)\n",
      "ἦν = VERB (should be VERB)\n",
      ", = PUNCT (should be PUNCT)\n",
      "ἐκ = ADP (should be ADP)\n",
      "δὲ = PART (should be CCONJ)\n",
      "τεκμηρίων = NOUN (should be NOUN)\n",
      "ὧν = PRON (should be PRON)\n",
      "ἐπὶ = ADP (should be ADP)\n",
      "μακρότατον = VERB (should be ADJ)\n",
      "σκοποῦντί = ADJ (should be VERB)\n",
      "μοι = PRON (should be PRON)\n",
      "πιστεῦσαι = NOUN (should be VERB)\n",
      "ξυμβαίνει = NOUN (should be VERB)\n",
      "οὐ = ADV (should be ADV)\n",
      "μεγάλα = ADJ (should be ADJ)\n",
      "νομίζω = VERB (should be VERB)\n",
      "γενέσθαι = VERB (should be VERB)\n",
      "οὔτε = ADV (should be ADV)\n",
      "κατὰ = ADP (should be ADP)\n",
      "τοὺς = DET (should be DET)\n",
      "πολέμους = NOUN (should be NOUN)\n",
      "οὔτε = ADV (should be CCONJ)\n",
      "ἐς = ADP (should be ADP)\n",
      "τὰ = DET (should be DET)\n",
      "ἄλλα = ADJ (should be PRON)\n",
      ". = PUNCT (should be PUNCT)\n"
     ]
    }
   ],
   "source": [
    "sentence = val[0][0] # first sentence in the validation dataset\n",
    "targets = val[0][1]\n",
    "\n",
    "with torch.no_grad():\n",
    "    word_characters_ixs = {}\n",
    "    for word in sentence:\n",
    "        word_ix = torch.tensor([word_to_ix[word]]).to(device) if word in word_to_ix else torch.tensor([word_to_ix['<UNK>']]).to(device)\n",
    "        char_ixs = make_ixs(word, char_to_ix)\n",
    "        word_characters_ixs[word_ix] = char_ixs\n",
    "\n",
    "    inputs = make_ixs(sentence, word_to_ix)\n",
    "    token_scores = model(inputs, word_characters_ixs)\n",
    "    scores = [score.tolist() for score in token_scores]\n",
    "    tag_ix = [score.index(max(score)) for score in scores]\n",
    "    tags = [ix_to_tag[tag] if tag in ix_to_tag else '' for tag in tag_ix]\n",
    "\n",
    "    for i, (word, tag) in enumerate(zip(sentence, tags)):\n",
    "        print('%s = %s (should be %s)' % (word, tag, targets[i]))"
   ]
  },
  {
   "cell_type": "code",
   "execution_count": null,
   "metadata": {},
   "outputs": [],
   "source": []
  }
 ],
 "metadata": {
  "kernelspec": {
   "display_name": "Python 3.7.5 64-bit ('py37': conda)",
   "language": "python",
   "name": "python37564bitpy37conda119f1b1dee6a471ca1ed427c057eb6d7"
  },
  "language_info": {
   "codemirror_mode": {
    "name": "ipython",
    "version": 3
   },
   "file_extension": ".py",
   "mimetype": "text/x-python",
   "name": "python",
   "nbconvert_exporter": "python",
   "pygments_lexer": "ipython3",
   "version": "3.7.5"
  }
 },
 "nbformat": 4,
 "nbformat_minor": 4
}
