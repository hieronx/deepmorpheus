{
 "cells": [
  {
   "cell_type": "markdown",
   "metadata": {},
   "source": [
    "## Loading files"
   ]
  },
  {
   "cell_type": "markdown",
   "metadata": {},
   "source": [
    "### Setup"
   ]
  },
  {
   "cell_type": "code",
   "execution_count": 1,
   "metadata": {},
   "outputs": [],
   "source": [
    "# !pip install pyconll torchtext livelossplot"
   ]
  },
  {
   "cell_type": "code",
   "execution_count": 2,
   "metadata": {},
   "outputs": [],
   "source": [
    "# !curl https://raw.githubusercontent.com/UniversalDependencies/UD_Ancient_Greek-Perseus/master/grc_perseus-ud-train.conllu -o data/perseus-conllu/grc_perseus-ud-train.conllu\n",
    "# !curl https://raw.githubusercontent.com/UniversalDependencies/UD_Ancient_Greek-Perseus/master/grc_perseus-ud-dev.conllu -o data/perseus-conllu/grc_perseus-ud-dev.conllu\n",
    "# !curl https://raw.githubusercontent.com/UniversalDependencies/UD_Ancient_Greek-Perseus/master/grc_perseus-ud-test.conllu -o data/perseus-conllu/grc_perseus-ud-test.conllu"
   ]
  },
  {
   "cell_type": "markdown",
   "metadata": {},
   "source": [
    "### Parsing"
   ]
  },
  {
   "cell_type": "code",
   "execution_count": 1,
   "metadata": {},
   "outputs": [],
   "source": [
    "import pyconll"
   ]
  },
  {
   "cell_type": "code",
   "execution_count": 2,
   "metadata": {},
   "outputs": [],
   "source": [
    "def parse_into_list(body):\n",
    "    data = []\n",
    "    for sentence in body:\n",
    "        sentence_words = []\n",
    "        sentence_tags = []\n",
    "        for token in sentence:\n",
    "            sentence_words.append(token.form)\n",
    "            sentence_tags.append(token.upos)\n",
    "\n",
    "        if len(sentence_words) > 0:\n",
    "            data.append((sentence_words, sentence_tags))\n",
    "    \n",
    "    return data"
   ]
  },
  {
   "cell_type": "code",
   "execution_count": 3,
   "metadata": {},
   "outputs": [
    {
     "data": {
      "text/plain": [
       "(11476, 1306)"
      ]
     },
     "execution_count": 3,
     "metadata": {},
     "output_type": "execute_result"
    }
   ],
   "source": [
    "train_file = pyconll.load_from_file('data/perseus-conllu/grc_perseus-ud-train.conllu')\n",
    "val_file = pyconll.load_from_file('data/perseus-conllu/grc_perseus-ud-dev.conllu')\n",
    "\n",
    "train = parse_into_list(train_file)\n",
    "val = parse_into_list(val_file)\n",
    "\n",
    "len(train),len(val)"
   ]
  },
  {
   "cell_type": "code",
   "execution_count": 4,
   "metadata": {},
   "outputs": [
    {
     "data": {
      "text/plain": [
       "33238"
      ]
     },
     "execution_count": 4,
     "metadata": {},
     "output_type": "execute_result"
    }
   ],
   "source": [
    "word_to_ix = { '<UNK>': 0 }\n",
    "for words, tags in train:\n",
    "    for word in words:\n",
    "        if word not in word_to_ix:\n",
    "            word_to_ix[word] = len(word_to_ix)\n",
    "            \n",
    "len(word_to_ix)"
   ]
  },
  {
   "cell_type": "code",
   "execution_count": 5,
   "metadata": {},
   "outputs": [
    {
     "data": {
      "text/plain": [
       "14"
      ]
     },
     "execution_count": 5,
     "metadata": {},
     "output_type": "execute_result"
    }
   ],
   "source": [
    "tag_to_ix = {}\n",
    "for sent, tags in train:\n",
    "    for tag in tags:\n",
    "        if tag not in tag_to_ix:\n",
    "            tag_to_ix[tag] = len(tag_to_ix)\n",
    "\n",
    "len(tag_to_ix)"
   ]
  },
  {
   "cell_type": "code",
   "execution_count": 6,
   "metadata": {},
   "outputs": [
    {
     "name": "stdout",
     "output_type": "stream",
     "text": [
      "{'<': 0, 'U': 1, 'N': 2, 'K': 3, '>': 4, 'ἐ': 5, 'ρ': 6, 'ᾷ': 7, 'μ': 8, 'ὲ': 9, 'ν': 10, 'ἁ': 11, 'γ': 12, 'ὸ': 13, 'ς': 14, 'ο': 15, 'ὐ': 16, 'α': 17, 'τ': 18, 'ῶ': 19, 'σ': 20, 'ι': 21, 'χ': 22, 'θ': 23, 'ό': 24, ',': 25, 'ἔ': 26, 'ω': 27, 'δ': 28, 'ῖ': 29, 'λ': 30, 'β': 31, 'ά': 32, 'ε': 33, 'υ': 34, '·': 35, 'ὄ': 36, '̓': 37, 'ἀ': 38, 'π': 39, 'ῦ': 40, 'ὼ': 41, 'κ': 42, 'ἡ': 43, 'ί': 44, 'ή': 45, 'ὰ': 46, 'ὶ': 47, 'Δ': 48, 'η': 49, 'ὥ': 50, 'ζ': 51, 'έ': 52, '.': 53, 'Ἱ': 54, 'ύ': 55, 'ῳ': 56, 'Ε': 57, 'Ἀ': 58, 'φ': 59, 'ὅ': 60, 'Π': 61, 'ἴ': 62, 'ὁ': 63, 'ὺ': 64, 'ἰ': 65, 'ᾶ': 66, 'ὴ': 67, 'ὀ': 68, 'ὔ': 69, 'Ἄ': 70, 'ἄ': 71, 'ἢ': 72, 'ῷ': 73, 'Ἔ': 74, 'ὢ': 75, 'ἶ': 76, 'ώ': 77, 'ὃ': 78, 'ὑ': 79, 'ὖ': 80, 'Κ': 81, 'ξ': 82, 'ᾠ': 83, 'Τ': 84, 'Ἑ': 85, 'ῆ': 86, 'ἠ': 87, 'ὒ': 88, 'ἒ': 89, 'ἂ': 90, 'ὕ': 91, 'ῃ': 92, 'ἱ': 93, 'ψ': 94, 'Β': 95, 'ἕ': 96, 'Μ': 97, 'Σ': 98, 'ᾀ': 99, 'ἃ': 100, 'Ῥ': 101, 'Ἴ': 102, 'ἅ': 103, 'Θ': 104, 'ϊ': 105, 'ἦ': 106, ';': 107, 'ὣ': 108, 'ᾳ': 109, 'ἥ': 110, 'ὡ': 111, 'Χ': 112, 'Ἐ': 113, 'Γ': 114, 'ῤ': 115, 'Ἁ': 116, 'ᾧ': 117, 'Φ': 118, 'Ζ': 119, 'ἑ': 120, 'Ἡ': 121, 'ἵ': 122, 'Ν': 123, 'ὦ': 124, 'Ἰ': 125, 'Ὑ': 126, 'ῄ': 127, 'ῇ': 128, 'Λ': 129, 'ὗ': 130, 'ἤ': 131, 'Ἕ': 132, 'ῥ': 133, 'ἆ': 134, 'ᾤ': 135, 'Ὀ': 136, 'ἣ': 137, 'ὤ': 138, 'ὧ': 139, 'ῴ': 140, 'Α': 141, 'Ὠ': 142, 'ἓ': 143, 'Ο': 144, 'ὠ': 145, 'Ὡ': 146, 'Ξ': 147, 'ὓ': 148, 'Ὁ': 149, 'ᾆ': 150, 'ἧ': 151, 'ΐ': 152, 'Ἅ': 153, 'ἷ': 154, 'ἳ': 155, 'ᾗ': 156, 'ᾄ': 157, 'ϋ': 158, 'ᾔ': 159, 'Ἥ': 160, 'ᾇ': 161, 'ᾐ': 162, 'Ἠ': 163, 'ᾖ': 164, 'ᾴ': 165, 'ΰ': 166, 'Ὄ': 167, 'ῂ': 168, 'ἇ': 169, 'ῒ': 170, 'ἲ': 171, 'Ἶ': 172, 'Ἤ': 173, 'Ὕ': 174, 'Ὦ': 175, 'ῢ': 176, 'ᾕ': 177, 'ῗ': 178, 'ᾦ': 179, 'Ὧ': 180, 'Ψ': 181, 'Ἵ': 182, '?': 183, 'Ὅ': 184, 'Ὣ': 185, 'Ἆ': 186, 'ᾅ': 187, 'ᾑ': 188, 'Ἦ': 189}\n"
     ]
    }
   ],
   "source": [
    "# Preparing our vocabulary of characters\n",
    "char_to_ix = {}\n",
    "for word in word_to_ix.keys():\n",
    "    for c in word:\n",
    "        if c not in char_to_ix:\n",
    "            char_to_ix[c] = len(char_to_ix)\n",
    "\n",
    "print(char_to_ix)"
   ]
  },
  {
   "cell_type": "markdown",
   "metadata": {},
   "source": [
    "## Model setup\n",
    "\n",
    "Based on https://pytorch.org/tutorials/beginner/nlp/sequence_models_tutorial.html"
   ]
  },
  {
   "cell_type": "code",
   "execution_count": 19,
   "metadata": {},
   "outputs": [],
   "source": [
    "import torch\n",
    "import torch.nn as nn\n",
    "import torch.optim as optim\n",
    "import torch.utils\n",
    "import torch.autograd as autograd\n",
    "\n",
    "from model.lstm_char import LSTMCharTagger"
   ]
  },
  {
   "cell_type": "code",
   "execution_count": 20,
   "metadata": {},
   "outputs": [
    {
     "data": {
      "text/plain": [
       "device(type='cpu')"
      ]
     },
     "execution_count": 20,
     "metadata": {},
     "output_type": "execute_result"
    }
   ],
   "source": [
    "torch.manual_seed(1)\n",
    "\n",
    "EMBEDDING_DIM = 100\n",
    "HIDDEN_DIM = 1000\n",
    "\n",
    "device = torch.device(\"cuda:0\" if torch.cuda.is_available() else \"cpu\")\n",
    "device"
   ]
  },
  {
   "cell_type": "code",
   "execution_count": 21,
   "metadata": {},
   "outputs": [],
   "source": [
    "model = LSTMCharTagger(EMBEDDING_DIM, EMBEDDING_DIM, HIDDEN_DIM, HIDDEN_DIM, len(word_to_ix), len(tag_to_ix), len(char_to_ix)).to(device)\n",
    "loss_function = nn.NLLLoss()\n",
    "optimizer = optim.Adam(model.parameters(), lr=0.001)"
   ]
  },
  {
   "cell_type": "code",
   "execution_count": 22,
   "metadata": {},
   "outputs": [],
   "source": [
    "def prepare_sequence(seq, to_ix):\n",
    "    idxs = [to_ix[w] if w in to_ix else to_ix['<UNK>'] for w in seq]\n",
    "    return autograd.Variable(torch.tensor(idxs, dtype=torch.long).to(device))"
   ]
  },
  {
   "cell_type": "markdown",
   "metadata": {},
   "source": [
    "## Model training"
   ]
  },
  {
   "cell_type": "code",
   "execution_count": 23,
   "metadata": {},
   "outputs": [],
   "source": [
    "import matplotlib.pyplot as plt\n",
    "import matplotlib.ticker as ticker\n",
    "\n",
    "%matplotlib inline"
   ]
  },
  {
   "cell_type": "code",
   "execution_count": 24,
   "metadata": {},
   "outputs": [],
   "source": [
    "def prepare_words_tensor(word_to_ix, char_to_ix):\n",
    "    \"\"\"Convert words(keys) in the dictionary word_to_ix into\n",
    "    tensors that contains character indexes\n",
    "    \n",
    "    Args:\n",
    "        word_to_ix(dict): key value pairs with words as keys and their indexes as values\n",
    "        char_to_ix(dict): key value pairs with characters as keys and their indexes as values\n",
    "    \n",
    "    Returns:\n",
    "        dict: Contains keys as index of words and values the tensors of words\n",
    "    \"\"\"\n",
    "    list_words_tensor = {}\n",
    "    for word, idx in word_to_ix.items():\n",
    "        list_words_tensor[idx] = prepare_sequence(word, char_to_ix)\n",
    "    return list_words_tensor"
   ]
  },
  {
   "cell_type": "code",
   "execution_count": 25,
   "metadata": {},
   "outputs": [
    {
     "ename": "IndexError",
     "evalue": "Dimension out of range (expected to be in range of [-1, 0], but got 1)",
     "output_type": "error",
     "traceback": [
      "\u001b[0;31m---------------------------------------------------------------------------\u001b[0m",
      "\u001b[0;31mIndexError\u001b[0m                                Traceback (most recent call last)",
      "\u001b[0;32m<ipython-input-25-ae75f3fe0aa0>\u001b[0m in \u001b[0;36m<module>\u001b[0;34m\u001b[0m\n\u001b[1;32m     21\u001b[0m             \u001b[0mtargets\u001b[0m \u001b[0;34m=\u001b[0m \u001b[0mprepare_sequence\u001b[0m\u001b[0;34m(\u001b[0m\u001b[0mtags\u001b[0m\u001b[0;34m,\u001b[0m \u001b[0mtag_to_ix\u001b[0m\u001b[0;34m)\u001b[0m\u001b[0;34m\u001b[0m\u001b[0;34m\u001b[0m\u001b[0m\n\u001b[1;32m     22\u001b[0m \u001b[0;34m\u001b[0m\u001b[0m\n\u001b[0;32m---> 23\u001b[0;31m             \u001b[0mtag_scores\u001b[0m \u001b[0;34m=\u001b[0m \u001b[0mmodel\u001b[0m\u001b[0;34m(\u001b[0m\u001b[0msentence_in\u001b[0m\u001b[0;34m,\u001b[0m \u001b[0mwords_tensors\u001b[0m\u001b[0;34m)\u001b[0m\u001b[0;34m\u001b[0m\u001b[0;34m\u001b[0m\u001b[0m\n\u001b[0m\u001b[1;32m     24\u001b[0m \u001b[0;34m\u001b[0m\u001b[0m\n\u001b[1;32m     25\u001b[0m             \u001b[0mloss\u001b[0m \u001b[0;34m=\u001b[0m \u001b[0mloss_function\u001b[0m\u001b[0;34m(\u001b[0m\u001b[0mtag_scores\u001b[0m\u001b[0;34m,\u001b[0m \u001b[0mtargets\u001b[0m\u001b[0;34m)\u001b[0m\u001b[0;34m\u001b[0m\u001b[0;34m\u001b[0m\u001b[0m\n",
      "\u001b[0;32m/opt/miniconda3/envs/py37/lib/python3.7/site-packages/torch/nn/modules/module.py\u001b[0m in \u001b[0;36m__call__\u001b[0;34m(self, *input, **kwargs)\u001b[0m\n\u001b[1;32m    539\u001b[0m             \u001b[0mresult\u001b[0m \u001b[0;34m=\u001b[0m \u001b[0mself\u001b[0m\u001b[0;34m.\u001b[0m\u001b[0m_slow_forward\u001b[0m\u001b[0;34m(\u001b[0m\u001b[0;34m*\u001b[0m\u001b[0minput\u001b[0m\u001b[0;34m,\u001b[0m \u001b[0;34m**\u001b[0m\u001b[0mkwargs\u001b[0m\u001b[0;34m)\u001b[0m\u001b[0;34m\u001b[0m\u001b[0;34m\u001b[0m\u001b[0m\n\u001b[1;32m    540\u001b[0m         \u001b[0;32melse\u001b[0m\u001b[0;34m:\u001b[0m\u001b[0;34m\u001b[0m\u001b[0;34m\u001b[0m\u001b[0m\n\u001b[0;32m--> 541\u001b[0;31m             \u001b[0mresult\u001b[0m \u001b[0;34m=\u001b[0m \u001b[0mself\u001b[0m\u001b[0;34m.\u001b[0m\u001b[0mforward\u001b[0m\u001b[0;34m(\u001b[0m\u001b[0;34m*\u001b[0m\u001b[0minput\u001b[0m\u001b[0;34m,\u001b[0m \u001b[0;34m**\u001b[0m\u001b[0mkwargs\u001b[0m\u001b[0;34m)\u001b[0m\u001b[0;34m\u001b[0m\u001b[0;34m\u001b[0m\u001b[0m\n\u001b[0m\u001b[1;32m    542\u001b[0m         \u001b[0;32mfor\u001b[0m \u001b[0mhook\u001b[0m \u001b[0;32min\u001b[0m \u001b[0mself\u001b[0m\u001b[0;34m.\u001b[0m\u001b[0m_forward_hooks\u001b[0m\u001b[0;34m.\u001b[0m\u001b[0mvalues\u001b[0m\u001b[0;34m(\u001b[0m\u001b[0;34m)\u001b[0m\u001b[0;34m:\u001b[0m\u001b[0;34m\u001b[0m\u001b[0;34m\u001b[0m\u001b[0m\n\u001b[1;32m    543\u001b[0m             \u001b[0mhook_result\u001b[0m \u001b[0;34m=\u001b[0m \u001b[0mhook\u001b[0m\u001b[0;34m(\u001b[0m\u001b[0mself\u001b[0m\u001b[0;34m,\u001b[0m \u001b[0minput\u001b[0m\u001b[0;34m,\u001b[0m \u001b[0mresult\u001b[0m\u001b[0;34m)\u001b[0m\u001b[0;34m\u001b[0m\u001b[0;34m\u001b[0m\u001b[0m\n",
      "\u001b[0;32m~/proj/nlpclassics/model/lstm_char.py\u001b[0m in \u001b[0;36mforward\u001b[0;34m(self, sentence_seq, words_tensor_dict)\u001b[0m\n\u001b[1;32m     72\u001b[0m             \u001b[0;31m# Now here we will only keep the final hidden state of the character level LSTM\u001b[0m\u001b[0;34m\u001b[0m\u001b[0;34m\u001b[0m\u001b[0;34m\u001b[0m\u001b[0m\n\u001b[1;32m     73\u001b[0m             \u001b[0;31m# i.e lstm_char_out[-1]\u001b[0m\u001b[0;34m\u001b[0m\u001b[0;34m\u001b[0m\u001b[0;34m\u001b[0m\u001b[0m\n\u001b[0;32m---> 74\u001b[0;31m             \u001b[0membeds_cat\u001b[0m \u001b[0;34m=\u001b[0m \u001b[0mtorch\u001b[0m\u001b[0;34m.\u001b[0m\u001b[0mcat\u001b[0m\u001b[0;34m(\u001b[0m\u001b[0;34m(\u001b[0m\u001b[0membeds\u001b[0m\u001b[0;34m,\u001b[0m \u001b[0mlstm_char_out\u001b[0m\u001b[0;34m[\u001b[0m\u001b[0;34m-\u001b[0m\u001b[0;36m1\u001b[0m\u001b[0;34m]\u001b[0m\u001b[0;34m)\u001b[0m\u001b[0;34m,\u001b[0m \u001b[0mdim\u001b[0m\u001b[0;34m=\u001b[0m\u001b[0;36m1\u001b[0m\u001b[0;34m)\u001b[0m\u001b[0;34m\u001b[0m\u001b[0;34m\u001b[0m\u001b[0m\n\u001b[0m\u001b[1;32m     75\u001b[0m \u001b[0;34m\u001b[0m\u001b[0m\n\u001b[1;32m     76\u001b[0m             \u001b[0mlstm_out\u001b[0m\u001b[0;34m,\u001b[0m \u001b[0mself\u001b[0m\u001b[0;34m.\u001b[0m\u001b[0mhidden_words\u001b[0m \u001b[0;34m=\u001b[0m \u001b[0mself\u001b[0m\u001b[0;34m.\u001b[0m\u001b[0mlstm_words\u001b[0m\u001b[0;34m(\u001b[0m\u001b[0membeds_cat\u001b[0m\u001b[0;34m,\u001b[0m \u001b[0mself\u001b[0m\u001b[0;34m.\u001b[0m\u001b[0mhidden_words\u001b[0m\u001b[0;34m)\u001b[0m\u001b[0;34m\u001b[0m\u001b[0;34m\u001b[0m\u001b[0m\n",
      "\u001b[0;31mIndexError\u001b[0m: Dimension out of range (expected to be in range of [-1, 0], but got 1)"
     ]
    }
   ],
   "source": [
    "# TODO: evaluate loss on separate validation dataset\n",
    "\n",
    "train_loader = torch.utils.data.DataLoader(train, batch_size=32, shuffle=True, num_workers=0)\n",
    "val_loader = torch.utils.data.DataLoader(val, batch_size=32, shuffle=True, num_workers=0)\n",
    "train_losses = []\n",
    "\n",
    "words_tensors = prepare_words_tensor(word_to_ix, char_to_ix)\n",
    "\n",
    "for epoch in range(10):\n",
    "    total_loss = 0\n",
    "\n",
    "    model.train()\n",
    "    for i, data in enumerate(train_loader):        \n",
    "        model.zero_grad()\n",
    "        \n",
    "        for i in range(len(data[0])):\n",
    "            sentence = data[0][i]\n",
    "            tags = data[1][i]\n",
    "            \n",
    "            sentence_in = prepare_sequence(sentence, word_to_ix)\n",
    "            targets = prepare_sequence(tags, tag_to_ix)\n",
    "\n",
    "            tag_scores = model(sentence_in, words_tensors)\n",
    "\n",
    "            loss = loss_function(tag_scores, targets)\n",
    "            loss.backward()\n",
    "            optimizer.step()\n",
    "\n",
    "            total_loss += loss\n",
    "\n",
    "    epoch_loss = total_loss / len(train)\n",
    "    \n",
    "    print('Epoch %d: %.4f' % (epoch, total_loss / len(train)))\n",
    "    train_losses.append(total_loss / len(train))\n",
    "    \n",
    "    # Evaluate on validation dataset\n",
    "    model.eval()\n",
    "    val_loss = 0\n",
    "    correct = 0\n",
    "    total = 0\n",
    "\n",
    "    for i, data in enumerate(val_loader):        \n",
    "        model.zero_grad()\n",
    "        \n",
    "        for i in range(len(data[0])):\n",
    "            sentence = data[0][i]\n",
    "            tags = data[1][i]\n",
    "            \n",
    "            sentence_in = prepare_sequence(sentence, word_to_ix)\n",
    "            targets = prepare_sequence(tags, tag_to_ix)\n",
    "\n",
    "            tag_scores = model(sentence_in, words_tensors)\n",
    "            loss = loss_function(tag_scores, targets)\n",
    "\n",
    "            val_loss += loss.item()\n",
    "            _, predicted = tag_scores.max(1)\n",
    "            total += targets.size(0)\n",
    "            correct += predicted.eq(targets).sum().item()\n",
    "    \n",
    "    print((100.*correct/total))"
   ]
  },
  {
   "cell_type": "markdown",
   "metadata": {},
   "source": [
    "## Inference"
   ]
  },
  {
   "cell_type": "code",
   "execution_count": 86,
   "metadata": {},
   "outputs": [
    {
     "data": {
      "text/plain": [
       "{0: 'VERB',\n",
       " 1: 'ADV',\n",
       " 2: 'ADJ',\n",
       " 3: 'NOUN',\n",
       " 4: 'PUNCT',\n",
       " 5: 'CCONJ',\n",
       " 6: 'ADP',\n",
       " 7: 'DET',\n",
       " 8: 'PRON',\n",
       " 9: 'SCONJ',\n",
       " 10: 'INTJ',\n",
       " 11: 'NUM',\n",
       " 12: 'X',\n",
       " 13: 'PART'}"
      ]
     },
     "execution_count": 86,
     "metadata": {},
     "output_type": "execute_result"
    }
   ],
   "source": [
    "ix_to_tag = {v: k for k, v in tag_to_ix.items()}\n",
    "ix_to_tag"
   ]
  },
  {
   "cell_type": "code",
   "execution_count": 87,
   "metadata": {},
   "outputs": [
    {
     "name": "stdout",
     "output_type": "stream",
     "text": [
      "τὰ = DET (should be DET)\n",
      "γὰρ = PART (should be ADV)\n",
      "πρὸ = ADP (should be ADP)\n",
      "αὐτῶν = PRON (should be PRON)\n",
      "καὶ = CCONJ (should be CCONJ)\n",
      "τὰ = DET (should be DET)\n",
      "ἔτι = ADV (should be ADV)\n",
      "παλαίτερα = VERB (should be ADJ)\n",
      "σαφῶς = ADV (should be ADV)\n",
      "μὲν = PART (should be ADV)\n",
      "εὑρεῖν = VERB (should be VERB)\n",
      "διὰ = ADP (should be ADP)\n",
      "χρόνου = NOUN (should be NOUN)\n",
      "πλῆθος = NOUN (should be NOUN)\n",
      "ἀδύνατα = ADJ (should be ADJ)\n",
      "ἦν = VERB (should be VERB)\n",
      ", = PUNCT (should be PUNCT)\n",
      "ἐκ = ADP (should be ADP)\n",
      "δὲ = ADV (should be CCONJ)\n",
      "τεκμηρίων = VERB (should be NOUN)\n",
      "ὧν = PRON (should be PRON)\n",
      "ἐπὶ = ADP (should be ADP)\n",
      "μακρότατον = PRON (should be ADJ)\n",
      "σκοποῦντί = VERB (should be VERB)\n",
      "μοι = PRON (should be PRON)\n",
      "πιστεῦσαι = VERB (should be VERB)\n",
      "ξυμβαίνει = VERB (should be VERB)\n",
      "οὐ = ADV (should be ADV)\n",
      "μεγάλα = ADJ (should be ADJ)\n",
      "νομίζω = VERB (should be VERB)\n",
      "γενέσθαι = VERB (should be VERB)\n",
      "οὔτε = ADV (should be ADV)\n",
      "κατὰ = ADP (should be ADP)\n",
      "τοὺς = DET (should be DET)\n",
      "πολέμους = NOUN (should be NOUN)\n",
      "οὔτε = ADV (should be CCONJ)\n",
      "ἐς = ADP (should be ADP)\n",
      "τὰ = DET (should be DET)\n",
      "ἄλλα = ADJ (should be PRON)\n",
      ". = PUNCT (should be PUNCT)\n"
     ]
    }
   ],
   "source": [
    "sentence = val[0][0] # first sentence in the validation dataset\n",
    "targets = val[0][1]\n",
    "\n",
    "with torch.no_grad():\n",
    "    inputs = prepare_sequence(sentence, word_to_ix)\n",
    "    token_scores = model(inputs)\n",
    "    scores = [score.tolist() for score in token_scores]\n",
    "    tag_ix = [score.index(max(score)) for score in scores]\n",
    "    tags = [ix_to_tag[tag] if tag in ix_to_tag else '' for tag in tag_ix]\n",
    "\n",
    "    for i, (word, tag) in enumerate(zip(sentence, tags)):\n",
    "        print('%s = %s (should be %s)' % (word, tag, targets[i]))"
   ]
  },
  {
   "cell_type": "code",
   "execution_count": null,
   "metadata": {},
   "outputs": [],
   "source": []
  }
 ],
 "metadata": {
  "kernelspec": {
   "display_name": "Python 3",
   "language": "python",
   "name": "python3"
  },
  "language_info": {
   "codemirror_mode": {
    "name": "ipython",
    "version": 3
   },
   "file_extension": ".py",
   "mimetype": "text/x-python",
   "name": "python",
   "nbconvert_exporter": "python",
   "pygments_lexer": "ipython3",
   "version": "3.7.5"
  }
 },
 "nbformat": 4,
 "nbformat_minor": 4
}
