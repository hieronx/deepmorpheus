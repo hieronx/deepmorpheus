{
 "cells": [
  {
   "cell_type": "markdown",
   "metadata": {},
   "source": [
    "## Loading files"
   ]
  },
  {
   "cell_type": "markdown",
   "metadata": {},
   "source": [
    "### Setup"
   ]
  },
  {
   "cell_type": "code",
   "execution_count": 1,
   "metadata": {
    "jupyter": {
     "source_hidden": true
    }
   },
   "outputs": [],
   "source": [
    "# !pip install pyconll torchtext livelossplot"
   ]
  },
  {
   "cell_type": "code",
   "execution_count": 2,
   "metadata": {
    "jupyter": {
     "source_hidden": true
    }
   },
   "outputs": [],
   "source": [
    "# !curl https://raw.githubusercontent.com/UniversalDependencies/UD_Ancient_Greek-Perseus/master/grc_perseus-ud-train.conllu -o data/perseus-conllu/grc_perseus-ud-train.conllu\n",
    "# !curl https://raw.githubusercontent.com/UniversalDependencies/UD_Ancient_Greek-Perseus/master/grc_perseus-ud-dev.conllu -o data/perseus-conllu/grc_perseus-ud-dev.conllu\n",
    "# !curl https://raw.githubusercontent.com/UniversalDependencies/UD_Ancient_Greek-Perseus/master/grc_perseus-ud-test.conllu -o data/perseus-conllu/grc_perseus-ud-test.conllu"
   ]
  },
  {
   "cell_type": "markdown",
   "metadata": {},
   "source": [
    "### Parsing"
   ]
  },
  {
   "cell_type": "code",
   "execution_count": 1,
   "metadata": {},
   "outputs": [],
   "source": [
    "import pyconll"
   ]
  },
  {
   "cell_type": "code",
   "execution_count": 2,
   "metadata": {},
   "outputs": [],
   "source": [
    "def parse_into_list(body):\n",
    "    data = []\n",
    "    for sentence in body:\n",
    "        sentence_words = []\n",
    "        sentence_tags = []\n",
    "        for token in sentence:\n",
    "            sentence_words.append(token.form)\n",
    "            sentence_tags.append(token.upos)\n",
    "\n",
    "        if len(sentence_words) > 0:\n",
    "            data.append((sentence_words, sentence_tags))\n",
    "    \n",
    "    return data"
   ]
  },
  {
   "cell_type": "code",
   "execution_count": 3,
   "metadata": {},
   "outputs": [
    {
     "data": {
      "text/plain": [
       "(11476, 1137)"
      ]
     },
     "execution_count": 3,
     "metadata": {},
     "output_type": "execute_result"
    }
   ],
   "source": [
    "train_file = pyconll.load_from_file('data/perseus-conllu/grc_perseus-ud-train.conllu')\n",
    "val_file = pyconll.load_from_file('data/perseus-conllu/grc_perseus-ud-dev.conllu')\n",
    "\n",
    "train = parse_into_list(train_file)\n",
    "val = parse_into_list(val_file)\n",
    "\n",
    "len(train),len(val)"
   ]
  },
  {
   "cell_type": "code",
   "execution_count": 18,
   "metadata": {},
   "outputs": [
    {
     "data": {
      "text/plain": [
       "(33238, 186)"
      ]
     },
     "execution_count": 18,
     "metadata": {},
     "output_type": "execute_result"
    }
   ],
   "source": [
    "word_to_ix = { '<UNK>': 0 }\n",
    "char_to_ix = { '<UNK>': 0 }\n",
    "for words, tags in train:\n",
    "    for word in words:\n",
    "        if word not in word_to_ix:\n",
    "            word_to_ix[word] = len(word_to_ix)\n",
    "            \n",
    "        for char in word:\n",
    "            if char not in char_to_ix:\n",
    "                char_to_ix[char] = len(char_to_ix)\n",
    "\n",
    "            \n",
    "len(word_to_ix),len(char_to_ix)"
   ]
  },
  {
   "cell_type": "code",
   "execution_count": 5,
   "metadata": {},
   "outputs": [
    {
     "data": {
      "text/plain": [
       "14"
      ]
     },
     "execution_count": 5,
     "metadata": {},
     "output_type": "execute_result"
    }
   ],
   "source": [
    "tag_to_ix = {}\n",
    "for sent, tags in train:\n",
    "    for tag in tags:\n",
    "        if tag not in tag_to_ix:\n",
    "            tag_to_ix[tag] = len(tag_to_ix)\n",
    "\n",
    "len(tag_to_ix)"
   ]
  },
  {
   "cell_type": "markdown",
   "metadata": {},
   "source": [
    "## Model setup\n",
    "\n",
    "Based on https://pytorch.org/tutorials/beginner/nlp/sequence_models_tutorial.html"
   ]
  },
  {
   "cell_type": "code",
   "execution_count": 6,
   "metadata": {},
   "outputs": [],
   "source": [
    "import torch\n",
    "import torch.nn as nn\n",
    "import torch.optim as optim\n",
    "import torch.utils\n",
    "import torch.autograd as autograd\n",
    "\n",
    "from model.lstm_char import LSTMCharTagger"
   ]
  },
  {
   "cell_type": "code",
   "execution_count": 7,
   "metadata": {},
   "outputs": [
    {
     "data": {
      "text/plain": [
       "device(type='cpu')"
      ]
     },
     "execution_count": 7,
     "metadata": {},
     "output_type": "execute_result"
    }
   ],
   "source": [
    "torch.manual_seed(1)\n",
    "\n",
    "WORD_EMBEDDING_DIM = 5\n",
    "CHAR_EMBEDDING_DIM = 6\n",
    "CHAR_REPR_DIM = 3\n",
    "HIDDEN_DIM = 6\n",
    "\n",
    "device = torch.device(\"cuda:0\" if torch.cuda.is_available() else \"cpu\")\n",
    "device"
   ]
  },
  {
   "cell_type": "code",
   "execution_count": 19,
   "metadata": {},
   "outputs": [],
   "source": [
    "def make_ixs(seq, to_ix):\n",
    "    ixs = torch.tensor([to_ix[w] if w in to_ix else to_ix['<UNK>'] for w in seq])\n",
    "    return ixs"
   ]
  },
  {
   "cell_type": "code",
   "execution_count": 20,
   "metadata": {},
   "outputs": [],
   "source": [
    "model = LSTMCharTagger(WORD_EMBEDDING_DIM,\n",
    "                   CHAR_EMBEDDING_DIM, CHAR_REPR_DIM,\n",
    "                   HIDDEN_DIM,\n",
    "                   len(word_to_ix), len(char_to_ix), len(tag_to_ix))\n",
    "loss_function = nn.NLLLoss()\n",
    "optimizer = optim.Adam(model.parameters(), lr=0.001)"
   ]
  },
  {
   "cell_type": "markdown",
   "metadata": {},
   "source": [
    "## Model training"
   ]
  },
  {
   "cell_type": "code",
   "execution_count": 21,
   "metadata": {},
   "outputs": [],
   "source": [
    "import matplotlib.pyplot as plt\n",
    "import matplotlib.ticker as ticker\n",
    "from tqdm import tqdm\n",
    "\n",
    "%matplotlib inline"
   ]
  },
  {
   "cell_type": "code",
   "execution_count": null,
   "metadata": {},
   "outputs": [
    {
     "name": "stderr",
     "output_type": "stream",
     "text": [
      "100%|██████████| 359/358.625 [01:24<00:00,  4.25it/s]\n",
      "  0%|          | 0/35.53125 [00:00<?, ?it/s]"
     ]
    },
    {
     "name": "stdout",
     "output_type": "stream",
     "text": [
      "Epoch 0: 0.2544\n"
     ]
    },
    {
     "name": "stderr",
     "output_type": "stream",
     "text": [
      "101%|██████████| 36/35.53125 [00:05<00:00,  6.04it/s]\n",
      "  0%|          | 0/358.625 [00:00<?, ?it/s]"
     ]
    },
    {
     "name": "stdout",
     "output_type": "stream",
     "text": [
      "17.421124828532236\n"
     ]
    },
    {
     "name": "stderr",
     "output_type": "stream",
     "text": [
      "100%|██████████| 359/358.625 [01:22<00:00,  4.38it/s]\n",
      "  3%|▎         | 1/35.53125 [00:00<00:04,  7.01it/s]"
     ]
    },
    {
     "name": "stdout",
     "output_type": "stream",
     "text": [
      "Epoch 1: 0.1896\n"
     ]
    },
    {
     "name": "stderr",
     "output_type": "stream",
     "text": [
      "101%|██████████| 36/35.53125 [00:06<00:00,  5.97it/s]\n",
      "  0%|          | 1/358.625 [00:00<00:40,  8.85it/s]"
     ]
    },
    {
     "name": "stdout",
     "output_type": "stream",
     "text": [
      "26.622354381668707\n"
     ]
    },
    {
     "name": "stderr",
     "output_type": "stream",
     "text": [
      "100%|██████████| 359/358.625 [01:25<00:00,  4.22it/s]\n",
      "  0%|          | 0/35.53125 [00:00<?, ?it/s]"
     ]
    },
    {
     "name": "stdout",
     "output_type": "stream",
     "text": [
      "Epoch 2: 0.1565\n"
     ]
    },
    {
     "name": "stderr",
     "output_type": "stream",
     "text": [
      "101%|██████████| 36/35.53125 [00:05<00:00,  6.25it/s]\n",
      "  0%|          | 0/358.625 [00:00<?, ?it/s]"
     ]
    },
    {
     "name": "stdout",
     "output_type": "stream",
     "text": [
      "36.373448461953586\n"
     ]
    },
    {
     "name": "stderr",
     "output_type": "stream",
     "text": [
      "100%|██████████| 359/358.625 [01:24<00:00,  4.22it/s]\n",
      "  0%|          | 0/35.53125 [00:00<?, ?it/s]"
     ]
    },
    {
     "name": "stdout",
     "output_type": "stream",
     "text": [
      "Epoch 3: 0.1365\n"
     ]
    },
    {
     "name": "stderr",
     "output_type": "stream",
     "text": [
      "101%|██████████| 36/35.53125 [00:06<00:00,  5.46it/s]\n",
      "  0%|          | 0/358.625 [00:00<?, ?it/s]"
     ]
    },
    {
     "name": "stdout",
     "output_type": "stream",
     "text": [
      "38.829615260265115\n"
     ]
    },
    {
     "name": "stderr",
     "output_type": "stream",
     "text": [
      "100%|██████████| 359/358.625 [01:25<00:00,  4.19it/s]\n",
      "  3%|▎         | 1/35.53125 [00:00<00:06,  5.11it/s]"
     ]
    },
    {
     "name": "stdout",
     "output_type": "stream",
     "text": [
      "Epoch 4: 0.1258\n"
     ]
    },
    {
     "name": "stderr",
     "output_type": "stream",
     "text": [
      "101%|██████████| 36/35.53125 [00:06<00:00,  5.97it/s]\n",
      "  0%|          | 1/358.625 [00:00<01:03,  5.62it/s]"
     ]
    },
    {
     "name": "stdout",
     "output_type": "stream",
     "text": [
      "43.52286558859329\n"
     ]
    },
    {
     "name": "stderr",
     "output_type": "stream",
     "text": [
      " 28%|██▊       | 102/358.625 [00:24<01:10,  3.65it/s]"
     ]
    }
   ],
   "source": [
    "# TODO: evaluate loss on separate validation dataset\n",
    "\n",
    "bs = 32\n",
    "train_loader = torch.utils.data.DataLoader(train, batch_size=bs, shuffle=True, num_workers=0)\n",
    "val_loader = torch.utils.data.DataLoader(val, batch_size=bs, shuffle=True, num_workers=0)\n",
    "train_losses = []\n",
    "\n",
    "for epoch in range(10):\n",
    "    total_loss = 0\n",
    "\n",
    "    model.train()\n",
    "    for i, data in tqdm(enumerate(train_loader), total=len(train) / bs):                \n",
    "        for i in range(len(data[0])):\n",
    "            sentence = data[0][i]\n",
    "            tags = data[1][i]\n",
    "            \n",
    "            word_characters_ixs = {}\n",
    "            for word in sentence:\n",
    "                word_ix = torch.tensor([word_to_ix[word]]) if word in word_to_ix else torch.tensor([word_to_ix['<UNK>']])\n",
    "                char_ixs = make_ixs(word, char_to_ix)\n",
    "                word_characters_ixs[word_ix] = char_ixs\n",
    "\n",
    "            targets = make_ixs(tags, tag_to_ix)\n",
    "\n",
    "            model.zero_grad()\n",
    "\n",
    "            model.init_word_hidden()\n",
    "            tag_scores = model(sentence, word_characters_ixs)\n",
    "\n",
    "            loss = loss_function(tag_scores, targets)\n",
    "            loss.backward()\n",
    "            optimizer.step()\n",
    "\n",
    "            total_loss += loss\n",
    "\n",
    "    epoch_loss = total_loss / len(train)\n",
    "    \n",
    "    print('Epoch %d: %.4f' % (epoch, total_loss / len(train)))\n",
    "    train_losses.append(total_loss / len(train))\n",
    "    \n",
    "    # Evaluate on validation dataset\n",
    "    model.eval()\n",
    "    val_loss = 0\n",
    "    correct = 0\n",
    "    total = 0\n",
    "\n",
    "    for i, data in tqdm(enumerate(val_loader), total=len(val) / bs):        \n",
    "        model.zero_grad()\n",
    "        \n",
    "        for i in range(len(data[0])):\n",
    "            sentence = data[0][i]\n",
    "            tags = data[1][i]\n",
    "                        \n",
    "            word_characters_ixs = {}\n",
    "            for word in sentence:\n",
    "                word_ix = torch.tensor([word_to_ix[word]]) if word in word_to_ix else torch.tensor([word_to_ix['<UNK>']])\n",
    "                char_ixs = make_ixs(word, char_to_ix)\n",
    "                word_characters_ixs[word_ix] = char_ixs\n",
    "            \n",
    "            targets = make_ixs(tags, tag_to_ix)\n",
    "\n",
    "            model.zero_grad()\n",
    "\n",
    "            model.init_word_hidden()\n",
    "            tag_scores = model(sentence, word_characters_ixs)\n",
    "            loss = loss_function(tag_scores, targets)\n",
    "\n",
    "            val_loss += loss.item()\n",
    "            _, predicted = tag_scores.max(1)\n",
    "            total += targets.size(0)\n",
    "            correct += predicted.eq(targets).sum().item()\n",
    "    \n",
    "    print((100.*correct/total))"
   ]
  },
  {
   "cell_type": "markdown",
   "metadata": {},
   "source": [
    "## Inference"
   ]
  },
  {
   "cell_type": "code",
   "execution_count": 23,
   "metadata": {},
   "outputs": [],
   "source": [
    "ix_to_tag = {v: k for k, v in tag_to_ix.items()}\n",
    "# ix_to_tag"
   ]
  },
  {
   "cell_type": "code",
   "execution_count": 27,
   "metadata": {},
   "outputs": [
    {
     "name": "stdout",
     "output_type": "stream",
     "text": [
      "τὰ = NUM (should be DET)\n",
      "γὰρ = NUM (should be ADV)\n",
      "πρὸ = NUM (should be ADP)\n",
      "αὐτῶν = NUM (should be PRON)\n",
      "καὶ = NUM (should be CCONJ)\n",
      "τὰ = NUM (should be DET)\n",
      "ἔτι = NUM (should be ADV)\n",
      "παλαίτερα = NUM (should be ADJ)\n",
      "σαφῶς = NUM (should be ADV)\n",
      "μὲν = NUM (should be ADV)\n",
      "εὑρεῖν = NUM (should be VERB)\n",
      "διὰ = NUM (should be ADP)\n",
      "χρόνου = NUM (should be NOUN)\n",
      "πλῆθος = PRON (should be NOUN)\n",
      "ἀδύνατα = NUM (should be ADJ)\n",
      "ἦν = NUM (should be VERB)\n",
      ", = NUM (should be PUNCT)\n",
      "ἐκ = PRON (should be ADP)\n",
      "δὲ = PRON (should be CCONJ)\n",
      "τεκμηρίων = NUM (should be NOUN)\n",
      "ὧν = NUM (should be PRON)\n",
      "ἐπὶ = NUM (should be ADP)\n",
      "μακρότατον = NUM (should be ADJ)\n",
      "σκοποῦντί = NUM (should be VERB)\n",
      "μοι = NUM (should be PRON)\n",
      "πιστεῦσαι = NUM (should be VERB)\n",
      "ξυμβαίνει = X (should be VERB)\n",
      "οὐ = NUM (should be ADV)\n",
      "μεγάλα = NUM (should be ADJ)\n",
      "νομίζω = NUM (should be VERB)\n",
      "γενέσθαι = NUM (should be VERB)\n",
      "οὔτε = NUM (should be ADV)\n",
      "κατὰ = NUM (should be ADP)\n",
      "τοὺς = NUM (should be DET)\n",
      "πολέμους = NUM (should be NOUN)\n",
      "οὔτε = NUM (should be CCONJ)\n",
      "ἐς = NUM (should be ADP)\n",
      "τὰ = NUM (should be DET)\n",
      "ἄλλα = NUM (should be PRON)\n",
      ". = NUM (should be PUNCT)\n"
     ]
    }
   ],
   "source": [
    "sentence = val[0][0] # first sentence in the validation dataset\n",
    "targets = val[0][1]\n",
    "\n",
    "with torch.no_grad():\n",
    "    word_characters_ixs = {}\n",
    "    for word in sentence:\n",
    "        word_ix = torch.tensor([word_to_ix[word]]) if word in word_to_ix else torch.tensor([word_to_ix['<UNK>']])\n",
    "        char_ixs = make_ixs(word, char_to_ix)\n",
    "        word_characters_ixs[word_ix] = char_ixs\n",
    "\n",
    "    inputs = make_ixs(sentence, word_to_ix)\n",
    "    token_scores = model(inputs, word_characters_ixs)\n",
    "    scores = [score.tolist() for score in token_scores]\n",
    "    tag_ix = [score.index(max(score)) for score in scores]\n",
    "    tags = [ix_to_tag[tag] if tag in ix_to_tag else '' for tag in tag_ix]\n",
    "\n",
    "    for i, (word, tag) in enumerate(zip(sentence, tags)):\n",
    "        print('%s = %s (should be %s)' % (word, tag, targets[i]))"
   ]
  },
  {
   "cell_type": "code",
   "execution_count": null,
   "metadata": {},
   "outputs": [],
   "source": []
  }
 ],
 "metadata": {
  "kernelspec": {
   "display_name": "Python 3",
   "language": "python",
   "name": "python3"
  },
  "language_info": {
   "codemirror_mode": {
    "name": "ipython",
    "version": 3
   },
   "file_extension": ".py",
   "mimetype": "text/x-python",
   "name": "python",
   "nbconvert_exporter": "python",
   "pygments_lexer": "ipython3",
   "version": "3.7.5"
  }
 },
 "nbformat": 4,
 "nbformat_minor": 4
}
