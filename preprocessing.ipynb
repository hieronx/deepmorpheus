{
 "cells": [
  {
   "cell_type": "markdown",
   "metadata": {},
   "source": [
    "## Loading files"
   ]
  },
  {
   "cell_type": "markdown",
   "metadata": {},
   "source": [
    "### Setup"
   ]
  },
  {
   "cell_type": "code",
   "execution_count": 60,
   "metadata": {
    "collapsed": true,
    "jupyter": {
     "outputs_hidden": true
    }
   },
   "outputs": [
    {
     "name": "stdout",
     "output_type": "stream",
     "text": [
      "Requirement already satisfied: pyconll in /Users/jeroen/.virtualenvs/outset/lib/python3.7/site-packages (2.2.0)\n",
      "Requirement already satisfied: torchtext in /Users/jeroen/.virtualenvs/outset/lib/python3.7/site-packages (0.4.0)\n",
      "Collecting livelossplot\n",
      "  Downloading https://files.pythonhosted.org/packages/8e/f6/0618c30078f9c1e4b2cd84f1ea6bb70c6615070468b75b0d934326107bcd/livelossplot-0.4.1-py3-none-any.whl\n",
      "Requirement already satisfied: requests>=2.21 in /Users/jeroen/.virtualenvs/outset/lib/python3.7/site-packages (from pyconll) (2.22.0)\n",
      "Requirement already satisfied: torch in /Users/jeroen/.virtualenvs/outset/lib/python3.7/site-packages (from torchtext) (1.3.0.post2)\n",
      "Requirement already satisfied: numpy in /Users/jeroen/.virtualenvs/outset/lib/python3.7/site-packages (from torchtext) (1.17.1)\n",
      "Requirement already satisfied: six in /Users/jeroen/.virtualenvs/outset/lib/python3.7/site-packages (from torchtext) (1.12.0)\n",
      "Requirement already satisfied: tqdm in /Users/jeroen/.virtualenvs/outset/lib/python3.7/site-packages (from torchtext) (4.37.0)\n",
      "Requirement already satisfied: matplotlib in /Users/jeroen/.virtualenvs/outset/lib/python3.7/site-packages (from livelossplot) (3.1.1)\n",
      "Requirement already satisfied: notebook in /Users/jeroen/.virtualenvs/outset/lib/python3.7/site-packages (from livelossplot) (6.0.2)\n",
      "Requirement already satisfied: idna<2.9,>=2.5 in /Users/jeroen/.virtualenvs/outset/lib/python3.7/site-packages (from requests>=2.21->pyconll) (2.8)\n",
      "Requirement already satisfied: certifi>=2017.4.17 in /Users/jeroen/.virtualenvs/outset/lib/python3.7/site-packages (from requests>=2.21->pyconll) (2019.6.16)\n",
      "Requirement already satisfied: urllib3!=1.25.0,!=1.25.1,<1.26,>=1.21.1 in /Users/jeroen/.virtualenvs/outset/lib/python3.7/site-packages (from requests>=2.21->pyconll) (1.25.3)\n",
      "Requirement already satisfied: chardet<3.1.0,>=3.0.2 in /Users/jeroen/.virtualenvs/outset/lib/python3.7/site-packages (from requests>=2.21->pyconll) (3.0.4)\n",
      "Requirement already satisfied: kiwisolver>=1.0.1 in /Users/jeroen/.virtualenvs/outset/lib/python3.7/site-packages (from matplotlib->livelossplot) (1.1.0)\n",
      "Requirement already satisfied: python-dateutil>=2.1 in /Users/jeroen/.virtualenvs/outset/lib/python3.7/site-packages (from matplotlib->livelossplot) (2.8.0)\n",
      "Requirement already satisfied: cycler>=0.10 in /Users/jeroen/.virtualenvs/outset/lib/python3.7/site-packages (from matplotlib->livelossplot) (0.10.0)\n",
      "Requirement already satisfied: pyparsing!=2.0.4,!=2.1.2,!=2.1.6,>=2.0.1 in /Users/jeroen/.virtualenvs/outset/lib/python3.7/site-packages (from matplotlib->livelossplot) (2.4.2)\n",
      "Requirement already satisfied: jinja2 in /Users/jeroen/.virtualenvs/outset/lib/python3.7/site-packages (from notebook->livelossplot) (2.10.3)\n",
      "Requirement already satisfied: tornado>=5.0 in /Users/jeroen/.virtualenvs/outset/lib/python3.7/site-packages (from notebook->livelossplot) (6.0.3)\n",
      "Requirement already satisfied: Send2Trash in /Users/jeroen/.virtualenvs/outset/lib/python3.7/site-packages (from notebook->livelossplot) (1.5.0)\n",
      "Requirement already satisfied: nbformat in /Users/jeroen/.virtualenvs/outset/lib/python3.7/site-packages (from notebook->livelossplot) (4.4.0)\n",
      "Requirement already satisfied: terminado>=0.8.1 in /Users/jeroen/.virtualenvs/outset/lib/python3.7/site-packages (from notebook->livelossplot) (0.8.2)\n",
      "Requirement already satisfied: ipython-genutils in /Users/jeroen/.virtualenvs/outset/lib/python3.7/site-packages (from notebook->livelossplot) (0.2.0)\n",
      "Requirement already satisfied: nbconvert in /Users/jeroen/.virtualenvs/outset/lib/python3.7/site-packages (from notebook->livelossplot) (5.6.1)\n",
      "Requirement already satisfied: traitlets>=4.2.1 in /Users/jeroen/.virtualenvs/outset/lib/python3.7/site-packages (from notebook->livelossplot) (4.3.3)\n",
      "Requirement already satisfied: jupyter-core>=4.6.0 in /Users/jeroen/.virtualenvs/outset/lib/python3.7/site-packages (from notebook->livelossplot) (4.6.1)\n",
      "Requirement already satisfied: jupyter-client>=5.3.4 in /Users/jeroen/.virtualenvs/outset/lib/python3.7/site-packages (from notebook->livelossplot) (5.3.4)\n",
      "Requirement already satisfied: pyzmq>=17 in /Users/jeroen/.virtualenvs/outset/lib/python3.7/site-packages (from notebook->livelossplot) (18.1.0)\n",
      "Requirement already satisfied: prometheus-client in /Users/jeroen/.virtualenvs/outset/lib/python3.7/site-packages (from notebook->livelossplot) (0.7.1)\n",
      "Requirement already satisfied: ipykernel in /Users/jeroen/.virtualenvs/outset/lib/python3.7/site-packages (from notebook->livelossplot) (5.1.3)\n",
      "Requirement already satisfied: setuptools in /Users/jeroen/.virtualenvs/outset/lib/python3.7/site-packages (from kiwisolver>=1.0.1->matplotlib->livelossplot) (41.2.0)\n",
      "Requirement already satisfied: MarkupSafe>=0.23 in /Users/jeroen/.virtualenvs/outset/lib/python3.7/site-packages (from jinja2->notebook->livelossplot) (1.1.1)\n",
      "Requirement already satisfied: jsonschema!=2.5.0,>=2.4 in /Users/jeroen/.virtualenvs/outset/lib/python3.7/site-packages (from nbformat->notebook->livelossplot) (3.1.1)\n",
      "Requirement already satisfied: ptyprocess; os_name != \"nt\" in /Users/jeroen/.virtualenvs/outset/lib/python3.7/site-packages (from terminado>=0.8.1->notebook->livelossplot) (0.6.0)\n",
      "Requirement already satisfied: defusedxml in /Users/jeroen/.virtualenvs/outset/lib/python3.7/site-packages (from nbconvert->notebook->livelossplot) (0.6.0)\n",
      "Requirement already satisfied: entrypoints>=0.2.2 in /Users/jeroen/.virtualenvs/outset/lib/python3.7/site-packages (from nbconvert->notebook->livelossplot) (0.3)\n",
      "Requirement already satisfied: pygments in /Users/jeroen/.virtualenvs/outset/lib/python3.7/site-packages (from nbconvert->notebook->livelossplot) (2.4.2)\n",
      "Requirement already satisfied: mistune<2,>=0.8.1 in /Users/jeroen/.virtualenvs/outset/lib/python3.7/site-packages (from nbconvert->notebook->livelossplot) (0.8.4)\n",
      "Requirement already satisfied: pandocfilters>=1.4.1 in /Users/jeroen/.virtualenvs/outset/lib/python3.7/site-packages (from nbconvert->notebook->livelossplot) (1.4.2)\n",
      "Requirement already satisfied: testpath in /Users/jeroen/.virtualenvs/outset/lib/python3.7/site-packages (from nbconvert->notebook->livelossplot) (0.4.4)\n",
      "Requirement already satisfied: bleach in /Users/jeroen/.virtualenvs/outset/lib/python3.7/site-packages (from nbconvert->notebook->livelossplot) (3.1.0)\n",
      "Requirement already satisfied: decorator in /Users/jeroen/.virtualenvs/outset/lib/python3.7/site-packages (from traitlets>=4.2.1->notebook->livelossplot) (4.4.1)\n",
      "Requirement already satisfied: ipython>=5.0.0 in /Users/jeroen/.virtualenvs/outset/lib/python3.7/site-packages (from ipykernel->notebook->livelossplot) (7.9.0)\n",
      "Requirement already satisfied: appnope; platform_system == \"Darwin\" in /Users/jeroen/.virtualenvs/outset/lib/python3.7/site-packages (from ipykernel->notebook->livelossplot) (0.1.0)\n",
      "Requirement already satisfied: attrs>=17.4.0 in /Users/jeroen/.virtualenvs/outset/lib/python3.7/site-packages (from jsonschema!=2.5.0,>=2.4->nbformat->notebook->livelossplot) (19.3.0)\n",
      "Requirement already satisfied: importlib-metadata in /Users/jeroen/.virtualenvs/outset/lib/python3.7/site-packages (from jsonschema!=2.5.0,>=2.4->nbformat->notebook->livelossplot) (0.23)\n",
      "Requirement already satisfied: pyrsistent>=0.14.0 in /Users/jeroen/.virtualenvs/outset/lib/python3.7/site-packages (from jsonschema!=2.5.0,>=2.4->nbformat->notebook->livelossplot) (0.15.5)\n",
      "Requirement already satisfied: webencodings in /Users/jeroen/.virtualenvs/outset/lib/python3.7/site-packages (from bleach->nbconvert->notebook->livelossplot) (0.5.1)\n",
      "Requirement already satisfied: pickleshare in /Users/jeroen/.virtualenvs/outset/lib/python3.7/site-packages (from ipython>=5.0.0->ipykernel->notebook->livelossplot) (0.7.5)\n",
      "Requirement already satisfied: jedi>=0.10 in /Users/jeroen/.virtualenvs/outset/lib/python3.7/site-packages (from ipython>=5.0.0->ipykernel->notebook->livelossplot) (0.15.1)\n",
      "Requirement already satisfied: prompt-toolkit<2.1.0,>=2.0.0 in /Users/jeroen/.virtualenvs/outset/lib/python3.7/site-packages (from ipython>=5.0.0->ipykernel->notebook->livelossplot) (2.0.10)\n",
      "Requirement already satisfied: pexpect; sys_platform != \"win32\" in /Users/jeroen/.virtualenvs/outset/lib/python3.7/site-packages (from ipython>=5.0.0->ipykernel->notebook->livelossplot) (4.7.0)\n",
      "Requirement already satisfied: backcall in /Users/jeroen/.virtualenvs/outset/lib/python3.7/site-packages (from ipython>=5.0.0->ipykernel->notebook->livelossplot) (0.1.0)\n",
      "Requirement already satisfied: zipp>=0.5 in /Users/jeroen/.virtualenvs/outset/lib/python3.7/site-packages (from importlib-metadata->jsonschema!=2.5.0,>=2.4->nbformat->notebook->livelossplot) (0.6.0)\n",
      "Requirement already satisfied: parso>=0.5.0 in /Users/jeroen/.virtualenvs/outset/lib/python3.7/site-packages (from jedi>=0.10->ipython>=5.0.0->ipykernel->notebook->livelossplot) (0.5.1)\n",
      "Requirement already satisfied: wcwidth in /Users/jeroen/.virtualenvs/outset/lib/python3.7/site-packages (from prompt-toolkit<2.1.0,>=2.0.0->ipython>=5.0.0->ipykernel->notebook->livelossplot) (0.1.7)\n",
      "Requirement already satisfied: more-itertools in /Users/jeroen/.virtualenvs/outset/lib/python3.7/site-packages (from zipp>=0.5->importlib-metadata->jsonschema!=2.5.0,>=2.4->nbformat->notebook->livelossplot) (7.2.0)\n",
      "Installing collected packages: livelossplot\n",
      "Successfully installed livelossplot-0.4.1\n",
      "\u001b[33mWARNING: You are using pip version 19.2.3, however version 19.3.1 is available.\n",
      "You should consider upgrading via the 'pip install --upgrade pip' command.\u001b[0m\n"
     ]
    }
   ],
   "source": [
    "!pip install pyconll torchtext livelossplot"
   ]
  },
  {
   "cell_type": "code",
   "execution_count": 1,
   "metadata": {},
   "outputs": [
    {
     "name": "stdout",
     "output_type": "stream",
     "text": [
      "  % Total    % Received % Xferd  Average Speed   Time    Time     Time  Current\n",
      "                                 Dload  Upload   Total   Spent    Left  Speed\n",
      "100 14.1M  100 14.1M    0     0  3242k      0  0:00:04  0:00:04 --:--:-- 3242k\n",
      "  % Total    % Received % Xferd  Average Speed   Time    Time     Time  Current\n",
      "                                 Dload  Upload   Total   Spent    Left  Speed\n",
      "100 2033k  100 2033k    0     0  2307k      0 --:--:-- --:--:-- --:--:-- 2307k\n",
      "  % Total    % Received % Xferd  Average Speed   Time    Time     Time  Current\n",
      "                                 Dload  Upload   Total   Spent    Left  Speed\n",
      "100 1933k  100 1933k    0     0  2423k      0 --:--:-- --:--:-- --:--:-- 2423k\n"
     ]
    }
   ],
   "source": [
    "!curl https://raw.githubusercontent.com/UniversalDependencies/UD_Ancient_Greek-Perseus/master/grc_perseus-ud-train.conllu -o data/perseus-conllu/grc_perseus-ud-train.conllu\n",
    "!curl https://raw.githubusercontent.com/UniversalDependencies/UD_Ancient_Greek-Perseus/master/grc_perseus-ud-dev.conllu -o data/perseus-conllu/grc_perseus-ud-dev.conllu\n",
    "!curl https://raw.githubusercontent.com/UniversalDependencies/UD_Ancient_Greek-Perseus/master/grc_perseus-ud-test.conllu -o data/perseus-conllu/grc_perseus-ud-test.conllu"
   ]
  },
  {
   "cell_type": "markdown",
   "metadata": {},
   "source": [
    "### Parsing"
   ]
  },
  {
   "cell_type": "code",
   "execution_count": 2,
   "metadata": {},
   "outputs": [],
   "source": [
    "import pyconll"
   ]
  },
  {
   "cell_type": "code",
   "execution_count": 3,
   "metadata": {},
   "outputs": [],
   "source": [
    "def parse_into_list(body):\n",
    "    data = []\n",
    "    for sentence in body:\n",
    "        sentence_words = []\n",
    "        sentence_tags = []\n",
    "        for token in sentence:\n",
    "            sentence_words.append(token.form)\n",
    "            sentence_tags.append(token.upos)\n",
    "\n",
    "        if len(sentence_words) > 0:\n",
    "            data.append((sentence_words, sentence_tags))\n",
    "    \n",
    "    return data"
   ]
  },
  {
   "cell_type": "code",
   "execution_count": 15,
   "metadata": {},
   "outputs": [
    {
     "data": {
      "text/plain": [
       "(1137, 1137)"
      ]
     },
     "execution_count": 15,
     "metadata": {},
     "output_type": "execute_result"
    }
   ],
   "source": [
    "train_file = pyconll.load_from_file('data/perseus-conllu/grc_perseus-ud-train.conllu')\n",
    "val_file = pyconll.load_from_file('data/perseus-conllu/grc_perseus-ud-dev.conllu')\n",
    "\n",
    "train = parse_into_list(val_file)\n",
    "val = parse_into_list(val_file)\n",
    "\n",
    "len(train),len(val)"
   ]
  },
  {
   "cell_type": "code",
   "execution_count": 16,
   "metadata": {},
   "outputs": [
    {
     "data": {
      "text/plain": [
       "6899"
      ]
     },
     "execution_count": 16,
     "metadata": {},
     "output_type": "execute_result"
    }
   ],
   "source": [
    "word_to_ix = {}\n",
    "for words, tags in train:\n",
    "    for word in words:\n",
    "        if word not in word_to_ix:\n",
    "            word_to_ix[word] = len(word_to_ix)\n",
    "            \n",
    "len(word_to_ix)"
   ]
  },
  {
   "cell_type": "code",
   "execution_count": 17,
   "metadata": {},
   "outputs": [
    {
     "data": {
      "text/plain": [
       "13"
      ]
     },
     "execution_count": 17,
     "metadata": {},
     "output_type": "execute_result"
    }
   ],
   "source": [
    "tag_to_ix = {}\n",
    "for sent, tags in train:\n",
    "    for tag in tags:\n",
    "        if tag not in tag_to_ix:\n",
    "            tag_to_ix[tag] = len(tag_to_ix)\n",
    "\n",
    "len(tag_to_ix)"
   ]
  },
  {
   "cell_type": "markdown",
   "metadata": {},
   "source": [
    "## Model setup\n",
    "\n",
    "Based on https://pytorch.org/tutorials/beginner/nlp/sequence_models_tutorial.html"
   ]
  },
  {
   "cell_type": "code",
   "execution_count": 64,
   "metadata": {},
   "outputs": [],
   "source": [
    "import torch\n",
    "import torch.nn as nn\n",
    "import torch.optim as optim\n",
    "import torch.utils\n",
    "\n",
    "from model.lstm import LSTMTagger"
   ]
  },
  {
   "cell_type": "code",
   "execution_count": 65,
   "metadata": {},
   "outputs": [],
   "source": [
    "torch.manual_seed(1)\n",
    "\n",
    "EMBEDDING_DIM = 100\n",
    "HIDDEN_DIM = 20"
   ]
  },
  {
   "cell_type": "code",
   "execution_count": 66,
   "metadata": {},
   "outputs": [],
   "source": [
    "model = LSTMTagger(EMBEDDING_DIM, HIDDEN_DIM, len(word_to_ix), len(tag_to_ix))\n",
    "loss_function = nn.NLLLoss()\n",
    "optimizer = optim.Adam(model.parameters(), lr=0.001)"
   ]
  },
  {
   "cell_type": "code",
   "execution_count": 67,
   "metadata": {},
   "outputs": [],
   "source": [
    "def prepare_sequence(seq, to_ix):\n",
    "    idxs = [to_ix[w] for w in seq]\n",
    "    return torch.tensor(idxs, dtype=torch.long)"
   ]
  },
  {
   "cell_type": "markdown",
   "metadata": {},
   "source": [
    "## Model training"
   ]
  },
  {
   "cell_type": "code",
   "execution_count": 68,
   "metadata": {},
   "outputs": [],
   "source": [
    "import matplotlib.pyplot as plt\n",
    "import matplotlib.ticker as ticker\n",
    "from livelossplot import PlotLosses\n",
    "\n",
    "%matplotlib inline"
   ]
  },
  {
   "cell_type": "code",
   "execution_count": 69,
   "metadata": {},
   "outputs": [
    {
     "data": {
      "image/png": "[encoded data removed]",
      "text/plain": [
       "<Figure size 864x576 with 1 Axes>"
      ]
     },
     "metadata": {
      "needs_background": "light"
     },
     "output_type": "display_data"
    },
    {
     "name": "stdout",
     "output_type": "stream",
     "text": [
      "loss:\n",
      "training   (min:    0.012, max:    0.312, cur:    0.012)\n"
     ]
    }
   ],
   "source": [
    "# TODO: evaluate loss on separate validation dataset\n",
    "\n",
    "train_loader = torch.utils.data.DataLoader(train, batch_size=32, shuffle=True, num_workers=0)\n",
    "train_losses = []\n",
    "liveloss = PlotLosses()\n",
    "\n",
    "for epoch in range(50):\n",
    "    logs = {}\n",
    "    total_loss = 0\n",
    "\n",
    "    for i, data in enumerate(train_loader):        \n",
    "        model.zero_grad()\n",
    "        \n",
    "        for i in range(len(data[0])):\n",
    "            sentence = data[0][i]\n",
    "            tags = data[1][i]\n",
    "            \n",
    "            sentence_in = prepare_sequence(sentence, word_to_ix)\n",
    "            targets = prepare_sequence(tags, tag_to_ix)\n",
    "\n",
    "            tag_scores = model(sentence_in)\n",
    "\n",
    "            loss = loss_function(tag_scores, targets)\n",
    "            loss.backward()\n",
    "            optimizer.step()\n",
    "\n",
    "            total_loss += loss\n",
    "\n",
    "    epoch_loss = total_loss / len(train)\n",
    "    \n",
    "    logs['loss'] = epoch_loss\n",
    "    liveloss.update(logs)\n",
    "    liveloss.draw()\n",
    "    \n",
    "#     print('Epoch %d: %.4f' % (epoch, total_loss / len(train)))\n",
    "    train_losses.append(total_loss / len(train))"
   ]
  },
  {
   "cell_type": "markdown",
   "metadata": {},
   "source": [
    "## Inference"
   ]
  },
  {
   "cell_type": "code",
   "execution_count": 70,
   "metadata": {},
   "outputs": [
    {
     "data": {
      "text/plain": [
       "{0: 'DET',\n",
       " 1: 'ADV',\n",
       " 2: 'ADP',\n",
       " 3: 'PRON',\n",
       " 4: 'CCONJ',\n",
       " 5: 'ADJ',\n",
       " 6: 'VERB',\n",
       " 7: 'NOUN',\n",
       " 8: 'PUNCT',\n",
       " 9: 'SCONJ',\n",
       " 10: 'INTJ',\n",
       " 11: 'NUM',\n",
       " 12: 'X'}"
      ]
     },
     "execution_count": 70,
     "metadata": {},
     "output_type": "execute_result"
    }
   ],
   "source": [
    "ix_to_tag = {v: k for k, v in tag_to_ix.items()}\n",
    "ix_to_tag"
   ]
  },
  {
   "cell_type": "code",
   "execution_count": 75,
   "metadata": {},
   "outputs": [
    {
     "name": "stdout",
     "output_type": "stream",
     "text": [
      "[-0.00021038226259406656, -0.0005270045949146152, -0.0036677727475762367, -0.23967194557189941, -0.06116347014904022, -7.760223525110632e-05, -0.00014959646796341985, -0.15902994573116302, -0.10238080471754074, -0.00019810620869975537, -0.0065076337195932865, -0.0013331820955500007, -0.00029774048016406596, -0.00039081089198589325, -0.0012550819665193558, -0.0001248043408850208, -0.00019786784832831472, -9.595887240720913e-05, -0.0023510216269642115, -0.03195293992757797, -0.11034657061100006, -0.0008885487914085388, -0.9656308889389038, -0.28252488374710083, -0.007447100710123777, -0.04013049602508545, -0.04466025531291962, -0.0011718557216227055, -0.010748823173344135, -0.29714110493659973, -0.0003636414185166359, -0.04306214302778244, -0.00016020445036701858, -0.0003023882454726845, -0.013412837870419025, -0.033986896276474, -0.0001003691868390888, -0.00012373158824630082, -0.0026642323937267065, -0.0010284854797646403]\n",
      "τὰ=DET  γὰρ=DET  πρὸ=DET  αὐτῶν=DET  καὶ=DET  τὰ=DET  ἔτι=DET  παλαίτερα=DET  σαφῶς=DET  μὲν=DET  εὑρεῖν=DET  διὰ=DET  χρόνου=DET  πλῆθος=DET  ἀδύνατα=DET  ἦν=DET  ,=DET  ἐκ=DET  δὲ=DET  τεκμηρίων=DET  ὧν=DET  ἐπὶ=DET  μακρότατον=  σκοποῦντί=DET  μοι=DET  πιστεῦσαι=DET  ξυμβαίνει=DET  οὐ=DET  μεγάλα=DET  νομίζω=DET  γενέσθαι=DET  οὔτε=DET  κατὰ=DET  τοὺς=DET  πολέμους=DET  οὔτε=DET  ἐς=DET  τὰ=DET  ἄλλα=DET  .=DET  "
     ]
    }
   ],
   "source": [
    "sentence = train[0][0] # first sentence in the validation dataset\n",
    "\n",
    "with torch.no_grad():\n",
    "    inputs = prepare_sequence(sentence, word_to_ix)\n",
    "    token_scores = model(inputs)\n",
    "    print([max(token_tags).item() for token_tags in token_scores])\n",
    "    tag_ix = [round(max(token_tags).item()) for token_tags in token_scores]\n",
    "    tags = [ix_to_tag[tag] if tag in ix_to_tag else '' for tag in tag_ix]\n",
    "\n",
    "    for word, tag in zip(sentence, tags):\n",
    "        print('%s=%s ' % (word, tag), end = ' ')"
   ]
  },
  {
   "cell_type": "code",
   "execution_count": null,
   "metadata": {},
   "outputs": [],
   "source": []
  }
 ],
 "metadata": {
  "kernelspec": {
   "display_name": "Python 3",
   "language": "python",
   "name": "python3"
  },
  "language_info": {
   "codemirror_mode": {
    "name": "ipython",
    "version": 3
   },
   "file_extension": ".py",
   "mimetype": "text/x-python",
   "name": "python",
   "nbconvert_exporter": "python",
   "pygments_lexer": "ipython3",
   "version": "3.7.4"
  }
 },
 "nbformat": 4,
 "nbformat_minor": 4
}
